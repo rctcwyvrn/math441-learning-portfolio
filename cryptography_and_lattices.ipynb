{
 "cells": [
  {
   "cell_type": "markdown",
   "metadata": {},
   "source": [
    "The source code for this entry can be found at https://github.com/rctcwyvrn/math441-learning-portfolio/blob/master/cryptography_and_lattices.ipynb"
   ]
  },
  {
   "cell_type": "markdown",
   "metadata": {},
   "source": [
    "In 1976 Whitfield Diffie and Martin Hellman developed what would become a key concept in modern telecommunications, the public key cryptosystem. In a paper titled \"New directions in cryptography\" they developed the first public key exchange and theorized what would eventually become public key cryptography but with one key part missing. Diffie and Hellman built their model for a public key cryptosystem with a theoretical \"one way trapdoor function\". A function that could be easily computed when given some secret information, but computationally infeasible to compute without. For many years after their seminal paper, cryptographers worked to develop this trapdoor function in reality.\n",
    "\n",
    "In the theory of computational complexity, one of the most well studied areas of problems are NP problems, problems categorized by the ability to verify a correct answer in polynomial time. Many well known NP problems also lack fast polynomial time algorithms to solve, leading to many cryptographers attempting to build the aforementioned trapdoor function from NP problems. In theory this would work, NP problems are easily verifiable and yet lack efficient algorithms to solve from scratch.\n",
    "\n",
    "In 1978 Ralph Merkle and Martin Hellman developed one of the earliest attempts at a public key cryptosystem, one that used a variation of the knapsack problem as its one way trapdoor function. \n",
    "\n",
    "## Background: Public key cryptography\n",
    "\n",
    "Public key cryptography solves the problem of secure communication without a previously shared key. For example, if a user wants to connect to a server for the first time, how can they ensure that their connection is secure? Once they establish an initial secure connection they can share a key and proceed, but how should this initial encryption be made? The model developed by Diffie and Hellman uses the idea of a public and a private key pair. \n",
    "\n",
    "The theorized keys would have the following properties\n",
    "1. The public key can be used to encrypt messages\n",
    "2. A message encrypted by a public key can _only_ be decrypted by its corresponding private key\n",
    "\n",
    "So the server that you'd like to connect to can generate this pair of keys and provide the public key out to the world. To send a secure message you would take that public key, encrypt your message, and send it to the server knowing that only the server can decrypt it, since only it has the private key.\n",
    "\n",
    "The question of how to develop this encryption and key generation was the one proposed by Diffie and Hellman with their one way trapdoor, and the one that Merkle and Hellman attempted to answer.\n",
    "\n",
    "## The Merkle-Hellman knapsack cryptosystem\n",
    "\n",
    "As we talked about in class, the knapsack problem is where given a number of items with value and weights and a backpack of limited carrying capacity, decide how many of each item should be taken to maximize value. The subset sum problem is a special case of this problem, where given a multiset of integers and a target sum, decide whether or not there exists a subset of the given integers that sums to the target sum. Since both the knapsack problem and special cases of the subset sum problem are known to be NP-complete it was theorized that it would be a good candidate for a trapdoor function. \n",
    "\n",
    "The big picture idea of the Merkle-Hellman system is this \n",
    "1. Create a special set of weights $B$ and release this as the public key\n",
    "2. To encrypt a message, use the weights and the message to create a sum $c$\n",
    "3. To decrypt the message, one would have to solve the subset sum problem to find which values of $B$ sum to $c$, which was thought to be computationally infeasible\n",
    "4. However, due to how the special set of weights $B$ is generated, the subset sum problem is easy to solve for the creator of the keys\n",
    "\n",
    "So by making each message into an instance of the general subset sum problem, it appears that since there is no efficient algorithm for subset sum, there is no way to decrypt the message. This raises the question though, how does the server decrypt the message then? \n",
    "\n",
    "The answer lies in the generation of the keys.\n",
    "\n",
    "Firstly, it is known that there is an efficient solution for the subset sum problem if the weights are _superincreasing_. A sequence $W$ is superincreasing if for each item in the sequence, it is greater than or equal to the sum of all prior elements, $\\forall_i \\sum_{j\\lt i} w_j \\leq w_i$. The reason why is pretty clear when we look at a greedy algorithm for this case. Consider a sequence of weights and the desired sum $c$\n",
    "\n",
    "Consider the largest element in $W$ that is less than $c$, $w_k$\n",
    "\n",
    "```\n",
    "w_0 w_1 w_2 ... w_k   w_k+1\n",
    "                    ^\n",
    "                    |\n",
    "                    c\n",
    "```\n",
    "\n",
    "$w_k$ must be greater than the sum of all elements before it, so the sum of all elements before $w_k$ are less than $c$. Therefore since all values are positive integers, $w_k$ must be included in a subset that sums to $c$ if it exists. So a greedy algorithm can take $w_k$, and then recursively solve for $c' = c - w_k$, giving us a polynomial time algorithm for finding the desired subset.\n",
    "\n",
    "So from this you might be able to guess the idea behind the Merkle-Hellman cryptosystem\n",
    "1. Create a set of superincreasing weights $W$\n",
    "2. From this set, create another set of weights $B$ based on $W$ such that \n",
    "    - $B$ is not superincreasing\n",
    "    - Given an instance of the subset sum problem on $B$, one can convert it to a subset sum problem on $W$\n",
    "3. So given a message encrypted by the public key $B$, all the holder of the private key has to do is convert it to a problem on the superincreasing weights $W$ and solve it using the aforementioned greedy algorithm\n",
    "\n",
    "That leaves us with one question, how do we generate this set of weights $B$?\n",
    "- Since $B$ is released publically and are based on the private key $W$, this generation must be one-way\n",
    "- We have to be able to reduce a subset sum problem on $B$ into a subset sum problem on $W$\n",
    "\n",
    "The exact method to generate $B$ given the superincreasing private key set $W$ is\n",
    "1. Choose a random integer $q \\gt \\sum_i w_i$\n",
    "2. Choose a random integer $r$ such that $q$ and $r$ are co-prime\n",
    "3. Compute $b_i = rw_i mod q$ for all $i$, the public key sequence is then $B = (b_1, b_2 ... b_n)$\n",
    "4. Release $B$ as the public key weights\n",
    "\n",
    "Does this satisfy the first property we need? That it's impossible to recover $w_i$ from $b_i$? We see that the answer is yes, since both the modulo $q$ and coefficient $r$ are unknown. \n",
    "\n",
    "Does this set give us an easy way to convert a subset sum problem on $B$ to one on $W$? Yes! An instance of the subset sum problem is just the target sum $T$ and the set.\n",
    "\n",
    "First, define encryption of a sequence of bits $M = (m_1, m_2 \\ldots m_n)$ as $c = \\sum_i^n b_i m_i$.\n",
    "\n",
    "To convert this to a sum over the weights $W$ we can compute the following\n",
    "1. Compute $r' = r^{-1} (mod q)$ using the Extended Euclidean algorithm. Since we chose $r$ to be coprime to $q$, this inverse must exist\n",
    "2. Compute $c' = c r' (mod q)$, we see that \n",
    "$\\begin{align}\n",
    "c' &= r' c (mod q) \\\\\n",
    "   &= r^{-1} \\sum_i^n m_i b_i \\\\\n",
    "   &= r^{-1} \\sum_i^n m_i r w_i \\\\\n",
    "   &= \\sum_i^n m_i w_i\n",
    "\\end{align}$\n",
    "\n",
    "So we have our subset sum problem over $W$ as desired, and we can solve this efficiently using the aforementioned greedy algorithm. The chosen integers correspond with the bits of the message $m_i = 1$, so by setting the rest of the bits to be $0$ we can recover the entire message."
   ]
  },
  {
   "cell_type": "code",
   "execution_count": 1,
   "metadata": {},
   "outputs": [],
   "source": [
    "import random\n",
    "import math\n",
    "import numpy as np\n",
    "from scipy.optimize import linprog\n",
    "from Crypto.Util import number"
   ]
  },
  {
   "cell_type": "code",
   "execution_count": 2,
   "metadata": {},
   "outputs": [],
   "source": [
    "# Decide on a private key, a superincreasing set of weights\n",
    "\n",
    "def superincreasing_sequence(n):\n",
    "    sum = 0\n",
    "    seq = []\n",
    "    for _ in range(n):\n",
    "        next = random.randint(sum, sum+10)\n",
    "        seq.append(next)\n",
    "        sum += next\n",
    "    return seq"
   ]
  },
  {
   "cell_type": "code",
   "execution_count": 3,
   "metadata": {},
   "outputs": [],
   "source": [
    "# Generate the public key from those weights\n",
    "def make_pubkey_from(W):\n",
    "    total = sum(W)\n",
    "    q = random.randint(total, total + 10)\n",
    "    r = q\n",
    "    while math.gcd(r,q) != 1:\n",
    "        r = random.randint(10, q)\n",
    "    \n",
    "    pubkey = [r*w % q for w in W]\n",
    "    privkey = (W, q, r)\n",
    "    return pubkey, privkey"
   ]
  },
  {
   "cell_type": "code",
   "execution_count": 4,
   "metadata": {},
   "outputs": [],
   "source": [
    "# Encrypt a message using the public key\n",
    "# Assume message is a sequence of bytes\n",
    "def encrypt(pubkey, message):\n",
    "    hex_msg = message.hex()\n",
    "    bits = bin(int(hex_msg, base=16)).lstrip('0b') # from stackoverflow\n",
    "    padded = \"0\" * (8*len(message) - len(bits)) + bits # pad to the proper length\n",
    "    sum = 0\n",
    "    for bit,weight in zip(padded, pubkey):\n",
    "        sum += int(bit) * weight\n",
    "    return sum"
   ]
  },
  {
   "cell_type": "code",
   "execution_count": 5,
   "metadata": {},
   "outputs": [],
   "source": [
    "# Decrypt the mesage using the private key\n",
    "\n",
    "def greedy_superincreasing_weights_solver(W, c):\n",
    "    c_current = c\n",
    "    choices = []\n",
    "    while True:\n",
    "        if c_current == 0:\n",
    "            return choices\n",
    "        \n",
    "        last = None\n",
    "        for weight in W:\n",
    "            if weight > c_current:\n",
    "                # take the last weight, and solve the subproblem\n",
    "                c_current -= last\n",
    "                choices.append(last)\n",
    "                break\n",
    "            last = weight\n",
    "        else:\n",
    "            # c_current is greater than all elements in the array, take the last one\n",
    "            c_current -= last\n",
    "            choices.append(last)\n",
    "\n",
    "\n",
    "def decrypt(privkey, c):\n",
    "    W, q, r = privkey\n",
    "    r_inv = number.inverse(r,q)\n",
    "    c_prime = (r_inv * c) % q \n",
    "    subset = greedy_superincreasing_weights_solver(W, c_prime)\n",
    "    message = \"\"\n",
    "    for weight in W:\n",
    "        if weight in subset:\n",
    "            message += \"1\"\n",
    "        else:\n",
    "            message += \"0\"\n",
    "    return number.long_to_bytes(int(message,2))\n"
   ]
  },
  {
   "cell_type": "code",
   "execution_count": 6,
   "metadata": {},
   "outputs": [],
   "source": [
    "# attempt to solve the subset sum problem directly using linprog\n",
    "def linprog_solve(W, sum):\n",
    "    n = len(W)\n",
    "    c_obj = np.zeros(n) # we just want a feasible solution\n",
    "    A = np.array(W).reshape(1,n)\n",
    "    b = np.array([sum])\n",
    "    bounds = [(0,1) for _ in range(n)]\n",
    "    integrality = np.ones(n)\n",
    "    solution = linprog(c_obj, A_eq=A, b_eq=b, bounds=bounds, integrality=integrality)\n",
    "    message_bits = \"\".join([\"1\" if b else \"0\" for b in solution.x])\n",
    "    return number.long_to_bytes(int(message_bits,2))"
   ]
  },
  {
   "cell_type": "code",
   "execution_count": 7,
   "metadata": {},
   "outputs": [
    {
     "data": {
      "text/plain": [
       "b'hi'"
      ]
     },
     "execution_count": 7,
     "metadata": {},
     "output_type": "execute_result"
    }
   ],
   "source": [
    "# make a 16 weight superincreasing sequence\n",
    "W = superincreasing_sequence(16)\n",
    "W\n",
    "\n",
    "# make the keypair out of it\n",
    "pubkey, privkey = make_pubkey_from(W)\n",
    "pubkey, privkey\n",
    "\n",
    "# encrypt a 16 bit message\n",
    "message = b\"hi\"\n",
    "ciphertext = encrypt(pubkey, message)\n",
    "ciphertext\n",
    "\n",
    "# decrypt the message\n",
    "recovered_message = decrypt(privkey, ciphertext)\n",
    "recovered_message"
   ]
  },
  {
   "cell_type": "code",
   "execution_count": 8,
   "metadata": {},
   "outputs": [
    {
     "data": {
      "text/plain": [
       "b'hi'"
      ]
     },
     "execution_count": 8,
     "metadata": {},
     "output_type": "execute_result"
    }
   ],
   "source": [
    "# attempt to solve the longer message with linprog\n",
    "linprog_solve(pubkey, ciphertext)"
   ]
  },
  {
   "cell_type": "code",
   "execution_count": 9,
   "metadata": {},
   "outputs": [
    {
     "name": "stdout",
     "output_type": "stream",
     "text": [
      "ciphertext =  536364990818258932943800609298354787715168485943509264980863553091867727082344099459967930841316809559412937252341166146607207289016042932811930253301092484554712921097687085585782642533819498260808656353443034214226752407487875922021363657631872717180143035219789177321849490070838974311046929258163148056471479301583555\n",
      "decrypted message =  b'MATH 441 is a project-based course which emphasizes mathematical research, communication, collaboration, computation and reflection.'\n"
     ]
    }
   ],
   "source": [
    "# try a longer message\n",
    "\n",
    "message = b\"MATH 441 is a project-based course which emphasizes mathematical research, communication, collaboration, computation and reflection.\"\n",
    "\n",
    "W = superincreasing_sequence(8*len(message))\n",
    "pubkey, privkey = make_pubkey_from(W)\n",
    "ciphertext = encrypt(pubkey, message)\n",
    "print(\"ciphertext = \", ciphertext)\n",
    "recovered_message = decrypt(privkey, ciphertext)\n",
    "print(\"decrypted message = \", recovered_message)"
   ]
  },
  {
   "cell_type": "code",
   "execution_count": 10,
   "metadata": {},
   "outputs": [
    {
     "ename": "OverflowError",
     "evalue": "int too large to convert to float",
     "output_type": "error",
     "traceback": [
      "\u001b[0;31m---------------------------------------------------------------------------\u001b[0m",
      "\u001b[0;31mOverflowError\u001b[0m                             Traceback (most recent call last)",
      "\u001b[0;32m<ipython-input-10-d638c2125c59>\u001b[0m in \u001b[0;36m<module>\u001b[0;34m\u001b[0m\n\u001b[1;32m      1\u001b[0m \u001b[0;31m# attempt to solve the longer message with linprog, we see that it fails!\u001b[0m\u001b[0;34m\u001b[0m\u001b[0;34m\u001b[0m\u001b[0;34m\u001b[0m\u001b[0m\n\u001b[0;32m----> 2\u001b[0;31m \u001b[0mlinprog_solve\u001b[0m\u001b[0;34m(\u001b[0m\u001b[0mpubkey\u001b[0m\u001b[0;34m,\u001b[0m \u001b[0mciphertext\u001b[0m\u001b[0;34m)\u001b[0m\u001b[0;34m\u001b[0m\u001b[0;34m\u001b[0m\u001b[0m\n\u001b[0m",
      "\u001b[0;32m<ipython-input-6-412775338176>\u001b[0m in \u001b[0;36mlinprog_solve\u001b[0;34m(W, sum)\u001b[0m\n\u001b[1;32m      7\u001b[0m     \u001b[0mbounds\u001b[0m \u001b[0;34m=\u001b[0m \u001b[0;34m[\u001b[0m\u001b[0;34m(\u001b[0m\u001b[0;36m0\u001b[0m\u001b[0;34m,\u001b[0m\u001b[0;36m1\u001b[0m\u001b[0;34m)\u001b[0m \u001b[0;32mfor\u001b[0m \u001b[0m_\u001b[0m \u001b[0;32min\u001b[0m \u001b[0mrange\u001b[0m\u001b[0;34m(\u001b[0m\u001b[0mn\u001b[0m\u001b[0;34m)\u001b[0m\u001b[0;34m]\u001b[0m\u001b[0;34m\u001b[0m\u001b[0;34m\u001b[0m\u001b[0m\n\u001b[1;32m      8\u001b[0m     \u001b[0mintegrality\u001b[0m \u001b[0;34m=\u001b[0m \u001b[0mnp\u001b[0m\u001b[0;34m.\u001b[0m\u001b[0mones\u001b[0m\u001b[0;34m(\u001b[0m\u001b[0mn\u001b[0m\u001b[0;34m)\u001b[0m\u001b[0;34m\u001b[0m\u001b[0;34m\u001b[0m\u001b[0m\n\u001b[0;32m----> 9\u001b[0;31m     \u001b[0msolution\u001b[0m \u001b[0;34m=\u001b[0m \u001b[0mlinprog\u001b[0m\u001b[0;34m(\u001b[0m\u001b[0mc_obj\u001b[0m\u001b[0;34m,\u001b[0m \u001b[0mA_eq\u001b[0m\u001b[0;34m=\u001b[0m\u001b[0mA\u001b[0m\u001b[0;34m,\u001b[0m \u001b[0mb_eq\u001b[0m\u001b[0;34m=\u001b[0m\u001b[0mb\u001b[0m\u001b[0;34m,\u001b[0m \u001b[0mbounds\u001b[0m\u001b[0;34m=\u001b[0m\u001b[0mbounds\u001b[0m\u001b[0;34m,\u001b[0m \u001b[0mintegrality\u001b[0m\u001b[0;34m=\u001b[0m\u001b[0mintegrality\u001b[0m\u001b[0;34m)\u001b[0m\u001b[0;34m\u001b[0m\u001b[0;34m\u001b[0m\u001b[0m\n\u001b[0m\u001b[1;32m     10\u001b[0m     \u001b[0mmessage_bits\u001b[0m \u001b[0;34m=\u001b[0m \u001b[0;34m\"\"\u001b[0m\u001b[0;34m.\u001b[0m\u001b[0mjoin\u001b[0m\u001b[0;34m(\u001b[0m\u001b[0;34m[\u001b[0m\u001b[0;34m\"1\"\u001b[0m \u001b[0;32mif\u001b[0m \u001b[0mb\u001b[0m \u001b[0;32melse\u001b[0m \u001b[0;34m\"0\"\u001b[0m \u001b[0;32mfor\u001b[0m \u001b[0mb\u001b[0m \u001b[0;32min\u001b[0m \u001b[0msolution\u001b[0m\u001b[0;34m.\u001b[0m\u001b[0mx\u001b[0m\u001b[0;34m]\u001b[0m\u001b[0;34m)\u001b[0m\u001b[0;34m\u001b[0m\u001b[0;34m\u001b[0m\u001b[0m\n\u001b[1;32m     11\u001b[0m     \u001b[0;32mreturn\u001b[0m \u001b[0mnumber\u001b[0m\u001b[0;34m.\u001b[0m\u001b[0mlong_to_bytes\u001b[0m\u001b[0;34m(\u001b[0m\u001b[0mint\u001b[0m\u001b[0;34m(\u001b[0m\u001b[0mmessage_bits\u001b[0m\u001b[0;34m,\u001b[0m\u001b[0;36m2\u001b[0m\u001b[0;34m)\u001b[0m\u001b[0;34m)\u001b[0m\u001b[0;34m\u001b[0m\u001b[0;34m\u001b[0m\u001b[0m\n",
      "\u001b[0;32m~/.local/lib/python3.8/site-packages/scipy/optimize/_linprog.py\u001b[0m in \u001b[0;36mlinprog\u001b[0;34m(c, A_ub, b_ub, A_eq, b_eq, bounds, method, callback, options, x0, integrality)\u001b[0m\n\u001b[1;32m    589\u001b[0m \u001b[0;34m\u001b[0m\u001b[0m\n\u001b[1;32m    590\u001b[0m     \u001b[0mlp\u001b[0m \u001b[0;34m=\u001b[0m \u001b[0m_LPProblem\u001b[0m\u001b[0;34m(\u001b[0m\u001b[0mc\u001b[0m\u001b[0;34m,\u001b[0m \u001b[0mA_ub\u001b[0m\u001b[0;34m,\u001b[0m \u001b[0mb_ub\u001b[0m\u001b[0;34m,\u001b[0m \u001b[0mA_eq\u001b[0m\u001b[0;34m,\u001b[0m \u001b[0mb_eq\u001b[0m\u001b[0;34m,\u001b[0m \u001b[0mbounds\u001b[0m\u001b[0;34m,\u001b[0m \u001b[0mx0\u001b[0m\u001b[0;34m,\u001b[0m \u001b[0mintegrality\u001b[0m\u001b[0;34m)\u001b[0m\u001b[0;34m\u001b[0m\u001b[0;34m\u001b[0m\u001b[0m\n\u001b[0;32m--> 591\u001b[0;31m     \u001b[0mlp\u001b[0m\u001b[0;34m,\u001b[0m \u001b[0msolver_options\u001b[0m \u001b[0;34m=\u001b[0m \u001b[0m_parse_linprog\u001b[0m\u001b[0;34m(\u001b[0m\u001b[0mlp\u001b[0m\u001b[0;34m,\u001b[0m \u001b[0moptions\u001b[0m\u001b[0;34m,\u001b[0m \u001b[0mmeth\u001b[0m\u001b[0;34m)\u001b[0m\u001b[0;34m\u001b[0m\u001b[0;34m\u001b[0m\u001b[0m\n\u001b[0m\u001b[1;32m    592\u001b[0m     \u001b[0mtol\u001b[0m \u001b[0;34m=\u001b[0m \u001b[0msolver_options\u001b[0m\u001b[0;34m.\u001b[0m\u001b[0mget\u001b[0m\u001b[0;34m(\u001b[0m\u001b[0;34m'tol'\u001b[0m\u001b[0;34m,\u001b[0m \u001b[0;36m1e-9\u001b[0m\u001b[0;34m)\u001b[0m\u001b[0;34m\u001b[0m\u001b[0;34m\u001b[0m\u001b[0m\n\u001b[1;32m    593\u001b[0m \u001b[0;34m\u001b[0m\u001b[0m\n",
      "\u001b[0;32m~/.local/lib/python3.8/site-packages/scipy/optimize/_linprog_util.py\u001b[0m in \u001b[0;36m_parse_linprog\u001b[0;34m(lp, options, meth)\u001b[0m\n\u001b[1;32m   1002\u001b[0m                                                       lp.A_ub, lp.A_eq)\n\u001b[1;32m   1003\u001b[0m     \u001b[0;31m# Convert lists to numpy arrays, etc...\u001b[0m\u001b[0;34m\u001b[0m\u001b[0;34m\u001b[0m\u001b[0;34m\u001b[0m\u001b[0m\n\u001b[0;32m-> 1004\u001b[0;31m     \u001b[0mlp\u001b[0m \u001b[0;34m=\u001b[0m \u001b[0m_clean_inputs\u001b[0m\u001b[0;34m(\u001b[0m\u001b[0mlp\u001b[0m\u001b[0;34m.\u001b[0m\u001b[0m_replace\u001b[0m\u001b[0;34m(\u001b[0m\u001b[0mA_ub\u001b[0m\u001b[0;34m=\u001b[0m\u001b[0mA_ub\u001b[0m\u001b[0;34m,\u001b[0m \u001b[0mA_eq\u001b[0m\u001b[0;34m=\u001b[0m\u001b[0mA_eq\u001b[0m\u001b[0;34m)\u001b[0m\u001b[0;34m)\u001b[0m\u001b[0;34m\u001b[0m\u001b[0;34m\u001b[0m\u001b[0m\n\u001b[0m\u001b[1;32m   1005\u001b[0m     \u001b[0;32mreturn\u001b[0m \u001b[0mlp\u001b[0m\u001b[0;34m,\u001b[0m \u001b[0msolver_options\u001b[0m\u001b[0;34m\u001b[0m\u001b[0;34m\u001b[0m\u001b[0m\n\u001b[1;32m   1006\u001b[0m \u001b[0;34m\u001b[0m\u001b[0m\n",
      "\u001b[0;32m~/.local/lib/python3.8/site-packages/scipy/optimize/_linprog_util.py\u001b[0m in \u001b[0;36m_clean_inputs\u001b[0;34m(lp)\u001b[0m\n\u001b[1;32m    326\u001b[0m \u001b[0;34m\u001b[0m\u001b[0m\n\u001b[1;32m    327\u001b[0m     \u001b[0;32mtry\u001b[0m\u001b[0;34m:\u001b[0m\u001b[0;34m\u001b[0m\u001b[0;34m\u001b[0m\u001b[0m\n\u001b[0;32m--> 328\u001b[0;31m         \u001b[0mA_eq\u001b[0m \u001b[0;34m=\u001b[0m \u001b[0m_format_A_constraints\u001b[0m\u001b[0;34m(\u001b[0m\u001b[0mA_eq\u001b[0m\u001b[0;34m,\u001b[0m \u001b[0mn_x\u001b[0m\u001b[0;34m,\u001b[0m \u001b[0msparse_lhs\u001b[0m\u001b[0;34m=\u001b[0m\u001b[0msparse_lhs\u001b[0m\u001b[0;34m)\u001b[0m\u001b[0;34m\u001b[0m\u001b[0;34m\u001b[0m\u001b[0m\n\u001b[0m\u001b[1;32m    329\u001b[0m     \u001b[0;32mexcept\u001b[0m \u001b[0mValueError\u001b[0m \u001b[0;32mas\u001b[0m \u001b[0me\u001b[0m\u001b[0;34m:\u001b[0m\u001b[0;34m\u001b[0m\u001b[0;34m\u001b[0m\u001b[0m\n\u001b[1;32m    330\u001b[0m         raise TypeError(\n",
      "\u001b[0;32m~/.local/lib/python3.8/site-packages/scipy/optimize/_linprog_util.py\u001b[0m in \u001b[0;36m_format_A_constraints\u001b[0;34m(A, n_x, sparse_lhs)\u001b[0m\n\u001b[1;32m    164\u001b[0m         \u001b[0;32mreturn\u001b[0m \u001b[0mnp\u001b[0m\u001b[0;34m.\u001b[0m\u001b[0mzeros\u001b[0m\u001b[0;34m(\u001b[0m\u001b[0;34m(\u001b[0m\u001b[0;36m0\u001b[0m\u001b[0;34m,\u001b[0m \u001b[0mn_x\u001b[0m\u001b[0;34m)\u001b[0m\u001b[0;34m,\u001b[0m \u001b[0mdtype\u001b[0m\u001b[0;34m=\u001b[0m\u001b[0mfloat\u001b[0m\u001b[0;34m)\u001b[0m\u001b[0;34m\u001b[0m\u001b[0;34m\u001b[0m\u001b[0m\n\u001b[1;32m    165\u001b[0m     \u001b[0;32melse\u001b[0m\u001b[0;34m:\u001b[0m\u001b[0;34m\u001b[0m\u001b[0;34m\u001b[0m\u001b[0m\n\u001b[0;32m--> 166\u001b[0;31m         \u001b[0;32mreturn\u001b[0m \u001b[0mnp\u001b[0m\u001b[0;34m.\u001b[0m\u001b[0marray\u001b[0m\u001b[0;34m(\u001b[0m\u001b[0mA\u001b[0m\u001b[0;34m,\u001b[0m \u001b[0mdtype\u001b[0m\u001b[0;34m=\u001b[0m\u001b[0mfloat\u001b[0m\u001b[0;34m,\u001b[0m \u001b[0mcopy\u001b[0m\u001b[0;34m=\u001b[0m\u001b[0;32mTrue\u001b[0m\u001b[0;34m)\u001b[0m\u001b[0;34m\u001b[0m\u001b[0;34m\u001b[0m\u001b[0m\n\u001b[0m\u001b[1;32m    167\u001b[0m \u001b[0;34m\u001b[0m\u001b[0m\n\u001b[1;32m    168\u001b[0m \u001b[0;34m\u001b[0m\u001b[0m\n",
      "\u001b[0;31mOverflowError\u001b[0m: int too large to convert to float"
     ]
    }
   ],
   "source": [
    "# attempt to solve the longer message with linprog, we see that it fails!\n",
    "linprog_solve(pubkey, ciphertext)"
   ]
  },
  {
   "cell_type": "markdown",
   "metadata": {},
   "source": [
    "# The fatal flaw: Lattices and lattice reductions\n",
    "\n",
    "So why don't we use this cryptosystem today? Ignoring the issue of the massive key size, it turns out that there is a way of solving the subset sum problem $c$ without knowing anything besides the public key in polynomial time, rendering the entire system useless.\n",
    "\n",
    "How does it work?\n",
    "\n",
    "- Lattice definition\n",
    "- the knapsack can be changed to a dot product, t backpack, u message, C value, t dot u = c is what we want to solve, u = {0,1}^n\n",
    "- impossible to solve directly, but we can convert it into a matrix problem\n",
    "    - let V = [u1 ... un, 1]\n",
    "    - let W = [u1 ... un, 0]\n",
    "    - let M = [ identity_n  0\n",
    "                b_1 ... b_n -c]\n",
    "    - we want to find W\n",
    "- All elements of V are either zero or one, so W is a lattice in the basis formed by the columns of M\n",
    "- note that W appears to be a short vector, since all values are either one or zero\n",
    "- hypothesize that W = a basis vector of M\n",
    "- compute the LLL reduced basis of M\n",
    "- check if any basis vectors are a valid solution (all zeroes and ones, then one zero) -> if so then we have our solution"
   ]
  },
  {
   "cell_type": "code",
   "execution_count": 11,
   "metadata": {},
   "outputs": [
    {
     "name": "stdout",
     "output_type": "stream",
     "text": [
      "[7, 17, 30, 63]\n",
      "[43, 122, 114, 18] ([7, 17, 30, 63], 123, 94)\n",
      "254\n"
     ]
    }
   ],
   "source": [
    "# lattice testing\n",
    "W = superincreasing_sequence(4)\n",
    "print(W)\n",
    "pubkey, privkey = make_pubkey_from(W)\n",
    "print(pubkey, privkey)\n",
    "message = \"0111\"\n",
    "ciphertext = sum([pubkey[i] if b == \"1\" else 0 for i,b in enumerate(message)])\n",
    "print(ciphertext)"
   ]
  },
  {
   "cell_type": "code",
   "execution_count": 12,
   "metadata": {},
   "outputs": [
    {
     "name": "stdout",
     "output_type": "stream",
     "text": [
      "[  1   0   0  0    0 ]\n",
      "[  0   1   0  0    0 ]\n",
      "[  0   0   1  0    0 ]\n",
      "[  0   0   0  1    0 ]\n",
      "[ 43 122 114 18 -254 ]\n",
      "doing LLL\n",
      "[ 1 0 0 0    0 ]\n",
      "[ 0 1 0 0    0 ]\n",
      "[ 0 0 1 0    0 ]\n",
      "[ 0 0 0 1    0 ]\n",
      "[ 0 0 0 0 -254 ]\n"
     ]
    }
   ],
   "source": [
    "# LLL solver, doesn't work :c\n",
    "import fpylll\n",
    "\n",
    "def lattice_solve(B, c):\n",
    "    n = len(B)\n",
    "    M_top = np.hstack([np.eye(n), np.zeros((n,1))])\n",
    "    M_bottom = np.hstack([B, [-c]])\n",
    "    M = np.vstack([M_top, M_bottom])\n",
    "    M = fpylll.IntegerMatrix.from_matrix(M.astype(int).tolist())\n",
    "    print(M)\n",
    "    print(\"doing LLL\")\n",
    "    reduced = fpylll.LLL.reduction(M)\n",
    "    print(reduced)\n",
    "\n",
    "recovered_message = lattice_solve(pubkey, ciphertext)"
   ]
  }
 ],
 "metadata": {
  "kernelspec": {
   "display_name": "Python 3.8.10 64-bit",
   "language": "python",
   "name": "python3"
  },
  "language_info": {
   "codemirror_mode": {
    "name": "ipython",
    "version": 3
   },
   "file_extension": ".py",
   "mimetype": "text/x-python",
   "name": "python",
   "nbconvert_exporter": "python",
   "pygments_lexer": "ipython3",
   "version": "3.8.10"
  },
  "orig_nbformat": 4,
  "vscode": {
   "interpreter": {
    "hash": "916dbcbb3f70747c44a77c7bcd40155683ae19c65e1c03b4aa3499c5328201f1"
   }
  }
 },
 "nbformat": 4,
 "nbformat_minor": 2
}
